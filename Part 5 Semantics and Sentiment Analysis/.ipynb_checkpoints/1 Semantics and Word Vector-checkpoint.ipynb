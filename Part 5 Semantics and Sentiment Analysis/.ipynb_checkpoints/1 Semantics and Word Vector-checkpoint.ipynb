{
 "cells": [
  {
   "cell_type": "code",
   "execution_count": 2,
   "metadata": {},
   "outputs": [],
   "source": [
    "import spacy"
   ]
  },
  {
   "cell_type": "code",
   "execution_count": 3,
   "metadata": {},
   "outputs": [],
   "source": [
    "nlp = spacy.load('en_core_web_lg')"
   ]
  },
  {
   "cell_type": "code",
   "execution_count": 6,
   "metadata": {},
   "outputs": [
    {
     "data": {
      "text/plain": [
       "array([-1.34393990e-01, -1.25699993e-02, -5.75583950e-02,  1.17894396e-01,\n",
       "       -1.87936015e-02,  9.50870439e-02, -7.30700046e-02,  2.09692027e-02,\n",
       "        1.52594790e-01,  1.52724206e+00, -2.21509978e-01, -1.11431397e-01,\n",
       "        1.41017940e-02, -7.08423406e-02, -2.35718012e-01, -1.19468058e-02,\n",
       "       -4.99501936e-02,  5.76076031e-01, -9.67930034e-02, -2.46045992e-01,\n",
       "       -1.17066003e-01,  2.74183997e-03,  6.41623959e-02, -2.50480831e-01,\n",
       "        1.35342777e-02,  7.89301991e-02, -1.66380003e-01, -1.65212184e-01,\n",
       "       -4.07363996e-02, -2.02828005e-01, -1.24727741e-01,  2.29155988e-01,\n",
       "        9.01521891e-02,  5.15727997e-02,  2.40970049e-02, -8.99066031e-02,\n",
       "       -1.26660019e-02,  2.32370794e-02, -7.13997781e-02, -1.64003611e-01,\n",
       "        3.66214029e-02,  1.27140041e-02, -3.59190032e-02, -1.19899988e-01,\n",
       "        1.93767995e-01,  1.25795200e-01, -1.43602803e-01, -5.03490195e-02,\n",
       "        9.18001980e-02,  2.31187977e-02, -1.37623191e-01,  4.12975959e-02,\n",
       "       -1.00702001e-02,  2.28905939e-02, -5.82397953e-02, -6.30491823e-02,\n",
       "        1.22485802e-01,  1.41221806e-01, -8.04736018e-02, -9.12960023e-02,\n",
       "        7.43508190e-02,  1.26165792e-01, -1.57239730e-03,  4.15440015e-02,\n",
       "        1.07698001e-01, -9.10446048e-02,  6.52000010e-02, -8.92140046e-02,\n",
       "        1.91478401e-01, -5.96479997e-02,  9.90299955e-02,  6.19204366e-04,\n",
       "        6.08096011e-02,  5.26310019e-02, -4.02089991e-02, -2.05251008e-01,\n",
       "       -1.26594780e-02, -1.65250599e-01,  2.30072029e-02,  1.48920611e-01,\n",
       "       -4.96198051e-02,  9.64573994e-02,  1.14713991e-02, -1.75134987e-02,\n",
       "        1.24297999e-01,  1.15219995e-01,  2.69409984e-01,  2.15960413e-01,\n",
       "        1.41181394e-01,  1.46012589e-01,  2.82819960e-02,  8.44644085e-02,\n",
       "       -4.37479988e-02, -2.66169220e-01,  6.86419979e-02, -7.21348077e-02,\n",
       "       -6.32015988e-02, -8.22205991e-02,  1.32555991e-01, -8.43466073e-02,\n",
       "       -3.93179851e-03, -5.32320030e-02, -1.07071400e-01, -4.63973954e-02,\n",
       "        4.76700068e-02, -5.58060050e-01,  2.04003975e-01, -1.28634006e-01,\n",
       "       -4.45800014e-02, -8.19249973e-02,  2.46848017e-02, -4.75196019e-02,\n",
       "        1.89494595e-01, -1.49918810e-01,  5.63286021e-02,  1.29404992e-01,\n",
       "       -2.21928004e-02, -1.11899972e-02,  5.90560138e-02,  8.71072039e-02,\n",
       "        7.16191977e-02, -1.41348392e-01, -3.31979915e-02, -1.19249798e-01,\n",
       "       -3.42161983e-01,  5.13710007e-02, -1.18332401e-01, -2.84900013e-02,\n",
       "       -9.64954048e-02, -4.97696027e-02,  5.14024012e-02,  8.86839628e-03,\n",
       "       -1.25350595e-01,  9.39260144e-03,  9.68474001e-02, -1.05076596e-01,\n",
       "       -1.85182020e-01,  1.62566043e-02, -2.91445963e-02, -1.89124003e-01,\n",
       "       -1.48195994e+00, -6.68807998e-02,  7.16678053e-02, -7.80959949e-02,\n",
       "        2.51598001e-01, -6.10692017e-02, -1.98000664e-04,  3.06297950e-02,\n",
       "        7.14899972e-02,  8.12674016e-02, -4.49879989e-02, -6.77006021e-02,\n",
       "        1.45613790e-01, -6.17352016e-02, -9.53442007e-02, -1.30730029e-02,\n",
       "       -3.22204009e-02,  2.19330400e-01,  1.22909591e-01, -9.06877965e-02,\n",
       "       -1.13692004e-02, -1.38803795e-01, -2.34224409e-01, -1.22886993e-01,\n",
       "       -7.24547952e-02, -1.54400617e-01, -5.46589978e-02, -3.98521982e-02,\n",
       "       -1.84267998e-01, -1.69001997e-01,  1.49023995e-01,  7.16160089e-02,\n",
       "       -2.19814017e-01, -1.17005989e-01, -3.00981998e-01, -1.59721196e-01,\n",
       "        1.97620198e-01,  4.70139831e-03, -1.17884599e-01, -4.89202030e-02,\n",
       "        6.61234036e-02, -1.98004991e-01, -1.66843981e-01, -1.67759992e-02,\n",
       "        1.22266993e-01, -8.14336017e-02, -1.36340009e-02, -5.63762002e-02,\n",
       "        1.98748000e-02, -9.43316240e-03,  1.90165788e-01,  6.22918010e-02,\n",
       "        4.19533588e-02,  9.03542042e-02, -4.54596393e-02,  1.34894401e-01,\n",
       "        9.85246003e-02,  4.26818021e-02,  3.17760035e-02,  2.57079937e-02,\n",
       "       -1.07101999e-01,  2.63299979e-02, -2.36926407e-01, -7.30580017e-02,\n",
       "        1.57542005e-01,  9.54449624e-02, -1.73632018e-02, -1.62841409e-01,\n",
       "       -4.00933251e-02, -2.74400110e-03,  1.25020032e-03,  1.17859961e-02,\n",
       "        4.57934029e-02,  2.49746397e-01, -2.64957957e-02,  1.06471993e-01,\n",
       "       -2.09711984e-01,  1.32078201e-01, -7.59885982e-02,  8.79258066e-02,\n",
       "        5.93129992e-02, -4.20799851e-03, -5.30731976e-02,  1.07449912e-01,\n",
       "       -2.53689766e-01, -1.54499382e-01,  2.20234603e-01,  1.76331997e-01,\n",
       "        6.72058016e-02,  2.27124006e-01,  3.45196016e-02,  2.83816047e-02,\n",
       "       -8.12544599e-02, -3.74870002e-02,  1.54284015e-02, -8.13940018e-02,\n",
       "       -2.77455989e-02,  3.60585228e-02,  9.61108059e-02,  1.56845599e-01,\n",
       "       -1.23986006e-01, -1.36321813e-01,  1.87472012e-02, -4.77867909e-02,\n",
       "        1.13042608e-01, -2.07583815e-01, -2.37176027e-02,  6.77988082e-02,\n",
       "       -8.93113986e-02,  8.46479982e-02, -8.50721970e-02, -4.65857983e-02,\n",
       "       -1.51870012e-01,  4.27444428e-02,  1.55869797e-01,  2.96880063e-02,\n",
       "        1.42365009e-01,  1.36960000e-01, -2.32180003e-02, -7.12417960e-02,\n",
       "        1.28925994e-01,  7.59869963e-02,  9.59517956e-02, -2.83528000e-01,\n",
       "        3.14881980e-01, -2.15491205e-01,  1.02287397e-01,  3.69495936e-02,\n",
       "       -4.19920012e-02, -9.04000085e-03,  7.65860965e-03,  2.12515801e-01,\n",
       "       -1.02600738e-01, -3.43374014e-02,  5.93199953e-02, -2.43879966e-02,\n",
       "        1.37179988e-02,  1.02082193e-01, -1.08680723e-03,  3.51542011e-02,\n",
       "        8.46219957e-02,  4.86057997e-02, -1.05854392e-01,  1.99752793e-01,\n",
       "        3.73801962e-02, -7.75718018e-02, -1.91460010e-02, -3.17245945e-02,\n",
       "       -4.38521951e-02,  4.98160012e-02, -2.63332009e-01,  1.02920011e-01,\n",
       "       -1.89365987e-02,  2.72480007e-02, -5.97359845e-03, -1.27050787e-01,\n",
       "        6.66459789e-03,  1.15822196e-01, -6.38258010e-02, -3.74280065e-02],\n",
       "      dtype=float32)"
      ]
     },
     "execution_count": 6,
     "metadata": {},
     "output_type": "execute_result"
    }
   ],
   "source": [
    "nlp(u'The quick brwon fox jumped').vector"
   ]
  },
  {
   "cell_type": "code",
   "execution_count": 7,
   "metadata": {},
   "outputs": [
    {
     "data": {
      "text/plain": [
       "(300,)"
      ]
     },
     "execution_count": 7,
     "metadata": {},
     "output_type": "execute_result"
    }
   ],
   "source": [
    "nlp(u'The quick brwon fox jumped').vector.shape"
   ]
  },
  {
   "cell_type": "code",
   "execution_count": 8,
   "metadata": {},
   "outputs": [
    {
     "data": {
      "text/plain": [
       "(300,)"
      ]
     },
     "execution_count": 8,
     "metadata": {},
     "output_type": "execute_result"
    }
   ],
   "source": [
    "nlp(u'fox').vector.shape"
   ]
  },
  {
   "cell_type": "code",
   "execution_count": 9,
   "metadata": {},
   "outputs": [],
   "source": [
    "tokens = nlp(u'lion cat pet')"
   ]
  },
  {
   "cell_type": "code",
   "execution_count": 10,
   "metadata": {},
   "outputs": [
    {
     "name": "stdout",
     "output_type": "stream",
     "text": [
      "lion lion 1.0\n",
      "lion cat 0.5265438\n",
      "lion pet 0.39923766\n",
      "cat lion 0.5265438\n",
      "cat cat 1.0\n",
      "cat pet 0.7505457\n",
      "pet lion 0.39923766\n",
      "pet cat 0.7505457\n",
      "pet pet 1.0\n"
     ]
    }
   ],
   "source": [
    "for token1 in tokens:\n",
    "    for token2 in tokens:\n",
    "        print(token1.text,token2.text,token1.similarity(token2))"
   ]
  },
  {
   "cell_type": "code",
   "execution_count": 11,
   "metadata": {},
   "outputs": [],
   "source": [
    "tokens1 = nlp(u'like love hate')"
   ]
  },
  {
   "cell_type": "code",
   "execution_count": 13,
   "metadata": {},
   "outputs": [
    {
     "name": "stdout",
     "output_type": "stream",
     "text": [
      "like like 1.0\n",
      "like love 0.657904\n",
      "like hate 0.65746516\n",
      "love like 0.657904\n",
      "love love 1.0\n",
      "love hate 0.63930994\n",
      "hate like 0.65746516\n",
      "hate love 0.63930994\n",
      "hate hate 1.0\n"
     ]
    }
   ],
   "source": [
    "for token1 in tokens1:\n",
    "    for token2 in tokens1:\n",
    "        print(token1.text,token2.text,token1.similarity(token2))"
   ]
  },
  {
   "cell_type": "code",
   "execution_count": 15,
   "metadata": {},
   "outputs": [
    {
     "data": {
      "text/plain": [
       "684831"
      ]
     },
     "execution_count": 15,
     "metadata": {},
     "output_type": "execute_result"
    }
   ],
   "source": [
    "len(nlp.vocab.vectors)"
   ]
  },
  {
   "cell_type": "code",
   "execution_count": 16,
   "metadata": {},
   "outputs": [
    {
     "data": {
      "text/plain": [
       "(684831, 300)"
      ]
     },
     "execution_count": 16,
     "metadata": {},
     "output_type": "execute_result"
    }
   ],
   "source": [
    "nlp.vocab.vectors.shape"
   ]
  },
  {
   "cell_type": "code",
   "execution_count": 19,
   "metadata": {},
   "outputs": [],
   "source": [
    "tokens = nlp(u\"dog cat Rishav\")"
   ]
  },
  {
   "cell_type": "code",
   "execution_count": 20,
   "metadata": {},
   "outputs": [
    {
     "name": "stdout",
     "output_type": "stream",
     "text": [
      "dog True 7.0336733 False\n",
      "cat True 6.6808186 False\n",
      "Rishav False 0.0 True\n"
     ]
    }
   ],
   "source": [
    "for token in tokens:\n",
    "    print(token.text,token.has_vector,token.vector_norm,token.is_oov)"
   ]
  },
  {
   "cell_type": "code",
   "execution_count": 21,
   "metadata": {},
   "outputs": [],
   "source": [
    "from scipy import spatial"
   ]
  },
  {
   "cell_type": "code",
   "execution_count": 22,
   "metadata": {},
   "outputs": [],
   "source": [
    "cosine_similarity = lambda vec1,vec2 : 1 - spatial.distance.cosine(vec1,vec2)"
   ]
  },
  {
   "cell_type": "code",
   "execution_count": 23,
   "metadata": {},
   "outputs": [],
   "source": [
    "king = nlp.vocab['king'].vector\n",
    "man = nlp.vocab['man'].vector\n",
    "woman = nlp.vocab['woman'].vector"
   ]
  },
  {
   "cell_type": "code",
   "execution_count": 24,
   "metadata": {},
   "outputs": [],
   "source": [
    "#King - man + woman -->New Vecotr similar Queen,princess,higness"
   ]
  },
  {
   "cell_type": "code",
   "execution_count": 26,
   "metadata": {},
   "outputs": [],
   "source": [
    "new_vector = king-man+woman"
   ]
  },
  {
   "cell_type": "code",
   "execution_count": 28,
   "metadata": {},
   "outputs": [],
   "source": [
    "computed_similarities = []\n",
    "for word in nlp.vocab:\n",
    "    if word.has_vector:\n",
    "        if word.is_lower:\n",
    "            if word.is_alpha:\n",
    "                similarity = cosine_similarity(new_vector,word.vector)\n",
    "                computed_similarities.append((word,similarity))"
   ]
  },
  {
   "cell_type": "code",
   "execution_count": 30,
   "metadata": {},
   "outputs": [],
   "source": [
    "computed_similarities = sorted(computed_similarities,key=lambda item:-item[1])"
   ]
  },
  {
   "cell_type": "code",
   "execution_count": 32,
   "metadata": {},
   "outputs": [
    {
     "name": "stdout",
     "output_type": "stream",
     "text": [
      "['king', 'queen', 'prince', 'kings', 'princess', 'royal', 'throne', 'queens', 'monarch', 'kingdom']\n"
     ]
    }
   ],
   "source": [
    "print([t[0].text for t in computed_similarities[:10]])"
   ]
  },
  {
   "cell_type": "code",
   "execution_count": null,
   "metadata": {},
   "outputs": [],
   "source": []
  }
 ],
 "metadata": {
  "kernelspec": {
   "display_name": "Python 3",
   "language": "python",
   "name": "python3"
  },
  "language_info": {
   "codemirror_mode": {
    "name": "ipython",
    "version": 3
   },
   "file_extension": ".py",
   "mimetype": "text/x-python",
   "name": "python",
   "nbconvert_exporter": "python",
   "pygments_lexer": "ipython3",
   "version": "3.7.2"
  }
 },
 "nbformat": 4,
 "nbformat_minor": 2
}
