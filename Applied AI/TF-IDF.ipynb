{
 "cells": [
  {
   "cell_type": "code",
   "execution_count": 1,
   "metadata": {},
   "outputs": [],
   "source": [
    "import nltk\n",
    "import re\n",
    "import heapq\n",
    "import numpy as np"
   ]
  },
  {
   "cell_type": "code",
   "execution_count": 2,
   "metadata": {},
   "outputs": [],
   "source": [
    "paragraph = \"\"\"Thank you all so very much. Thank you to the Academy. \n",
    "               Thank you to all of you in this room. I have to congratulate \n",
    "               the other incredible nominees this year. The Revenant was \n",
    "               the product of the tireless efforts of an unbelievable cast\n",
    "               and crew. First off, to my brother in this endeavor, Mr. Tom \n",
    "               Hardy. Tom, your talent on screen can only be surpassed by \n",
    "               your friendship off screen … thank you for creating a t\n",
    "               ranscendent cinematic experience. Thank you to everybody at \n",
    "               Fox and New Regency … my entire team. I have to thank \n",
    "               everyone from the very onset of my career … To my parents; \n",
    "               none of this would be possible without you. And to my \n",
    "               friends, I love you dearly; you know who you are. And lastly,\n",
    "               I just want to say this: Making The Revenant was about\n",
    "               man's relationship to the natural world. A world that we\n",
    "               collectively felt in 2015 as the hottest year in recorded\n",
    "               history. Our production needed to move to the southern\n",
    "               tip of this planet just to be able to find snow. Climate\n",
    "               change is real, it is happening right now. It is the most\n",
    "               urgent threat facing our entire species, and we need to work\n",
    "               collectively together and stop procrastinating. We need to\n",
    "               support leaders around the world who do not speak for the \n",
    "               big polluters, but who speak for all of humanity, for the\n",
    "               indigenous people of the world, for the billions and \n",
    "               billions of underprivileged people out there who would be\n",
    "               most affected by this. For our children’s children, and \n",
    "               for those people out there whose voices have been drowned\n",
    "               out by the politics of greed. I thank you all for this \n",
    "               amazing award tonight. Let us not take this planet for \n",
    "               granted. I do not take tonight for granted. Thank you so very much.\"\"\"\n"
   ]
  },
  {
   "cell_type": "code",
   "execution_count": 3,
   "metadata": {},
   "outputs": [],
   "source": [
    "dataSet = nltk.sent_tokenize(paragraph)"
   ]
  },
  {
   "cell_type": "code",
   "execution_count": 4,
   "metadata": {},
   "outputs": [],
   "source": [
    "for i in range(len(dataSet)):\n",
    "    dataSet[i] = dataSet[i].lower()\n",
    "    dataSet[i] = re.sub(r'\\W',' ',dataSet[i])\n",
    "    dataSet[i] = re.sub(r'\\s+',' ',dataSet[i])"
   ]
  },
  {
   "cell_type": "code",
   "execution_count": 6,
   "metadata": {},
   "outputs": [],
   "source": [
    "word2count = {}\n",
    "for data in dataSet:\n",
    "    words = nltk.word_tokenize(data)\n",
    "    for word in words:\n",
    "        if word not in word2count.keys():\n",
    "            word2count[word] = 1\n",
    "        else:\n",
    "            word2count[word] += 1\n",
    "\n",
    "freq_words = heapq.nlargest(100,word2count,key=word2count.get)"
   ]
  },
  {
   "cell_type": "code",
   "execution_count": 7,
   "metadata": {},
   "outputs": [],
   "source": [
    "#IDF\n",
    "word_idfs = {}\n",
    "for word in freq_words:\n",
    "    doc_count = 0\n",
    "    for data in dataSet:\n",
    "        if word in nltk.word_tokenize(data):\n",
    "            doc_count += 1\n",
    "    word_idfs[word] = np.log((len(dataSet)/doc_count) + 1)"
   ]
  },
  {
   "cell_type": "code",
   "execution_count": 8,
   "metadata": {
    "scrolled": true
   },
   "outputs": [
    {
     "data": {
      "text/plain": [
       "{'the': 1.1314021114911006,\n",
       " 'to': 1.067840630001356,\n",
       " 'you': 1.2039728043259361,\n",
       " 'of': 1.5040773967762742,\n",
       " 'for': 1.5040773967762742,\n",
       " 'this': 1.2039728043259361,\n",
       " 'thank': 1.2878542883066382,\n",
       " 'and': 1.3862943611198906,\n",
       " 'i': 1.5040773967762742,\n",
       " 'my': 1.8325814637483102,\n",
       " 'all': 1.8325814637483102,\n",
       " 'in': 2.0794415416798357,\n",
       " 'be': 1.8325814637483102,\n",
       " 'who': 2.4423470353692043,\n",
       " 'world': 2.0794415416798357,\n",
       " 'very': 2.0794415416798357,\n",
       " 'have': 2.0794415416798357,\n",
       " 'by': 2.0794415416798357,\n",
       " 'we': 2.0794415416798357,\n",
       " 'our': 2.0794415416798357,\n",
       " 'is': 2.4423470353692043,\n",
       " 'not': 2.0794415416798357,\n",
       " 'people': 2.4423470353692043,\n",
       " 'out': 2.4423470353692043,\n",
       " 'so': 2.4423470353692043,\n",
       " 'much': 2.4423470353692043,\n",
       " 'year': 2.4423470353692043,\n",
       " 'revenant': 2.4423470353692043,\n",
       " 'was': 2.4423470353692043,\n",
       " 'off': 2.4423470353692043,\n",
       " 'tom': 2.4423470353692043,\n",
       " 'your': 3.091042453358316,\n",
       " 'screen': 3.091042453358316,\n",
       " 'a': 2.4423470353692043,\n",
       " 'entire': 2.4423470353692043,\n",
       " 'would': 2.4423470353692043,\n",
       " 'just': 2.4423470353692043,\n",
       " 's': 2.4423470353692043,\n",
       " 'collectively': 2.4423470353692043,\n",
       " 'planet': 2.4423470353692043,\n",
       " 'it': 2.4423470353692043,\n",
       " 'most': 2.4423470353692043,\n",
       " 'need': 2.4423470353692043,\n",
       " 'do': 2.4423470353692043,\n",
       " 'speak': 3.091042453358316,\n",
       " 'billions': 3.091042453358316,\n",
       " 'there': 2.4423470353692043,\n",
       " 'children': 3.091042453358316,\n",
       " 'tonight': 2.4423470353692043,\n",
       " 'take': 2.4423470353692043,\n",
       " 'granted': 2.4423470353692043,\n",
       " 'academy': 3.091042453358316,\n",
       " 'room': 3.091042453358316,\n",
       " 'congratulate': 3.091042453358316,\n",
       " 'other': 3.091042453358316,\n",
       " 'incredible': 3.091042453358316,\n",
       " 'nominees': 3.091042453358316,\n",
       " 'product': 3.091042453358316,\n",
       " 'tireless': 3.091042453358316,\n",
       " 'efforts': 3.091042453358316,\n",
       " 'an': 3.091042453358316,\n",
       " 'unbelievable': 3.091042453358316,\n",
       " 'cast': 3.091042453358316,\n",
       " 'crew': 3.091042453358316,\n",
       " 'first': 3.091042453358316,\n",
       " 'brother': 3.091042453358316,\n",
       " 'endeavor': 3.091042453358316,\n",
       " 'mr': 3.091042453358316,\n",
       " 'hardy': 3.091042453358316,\n",
       " 'talent': 3.091042453358316,\n",
       " 'on': 3.091042453358316,\n",
       " 'can': 3.091042453358316,\n",
       " 'only': 3.091042453358316,\n",
       " 'surpassed': 3.091042453358316,\n",
       " 'friendship': 3.091042453358316,\n",
       " 'creating': 3.091042453358316,\n",
       " 't': 3.091042453358316,\n",
       " 'ranscendent': 3.091042453358316,\n",
       " 'cinematic': 3.091042453358316,\n",
       " 'experience': 3.091042453358316,\n",
       " 'everybody': 3.091042453358316,\n",
       " 'at': 3.091042453358316,\n",
       " 'fox': 3.091042453358316,\n",
       " 'new': 3.091042453358316,\n",
       " 'regency': 3.091042453358316,\n",
       " 'team': 3.091042453358316,\n",
       " 'everyone': 3.091042453358316,\n",
       " 'from': 3.091042453358316,\n",
       " 'onset': 3.091042453358316,\n",
       " 'career': 3.091042453358316,\n",
       " 'parents': 3.091042453358316,\n",
       " 'none': 3.091042453358316,\n",
       " 'possible': 3.091042453358316,\n",
       " 'without': 3.091042453358316,\n",
       " 'friends': 3.091042453358316,\n",
       " 'love': 3.091042453358316,\n",
       " 'dearly': 3.091042453358316,\n",
       " 'know': 3.091042453358316,\n",
       " 'are': 3.091042453358316,\n",
       " 'lastly': 3.091042453358316}"
      ]
     },
     "execution_count": 8,
     "metadata": {},
     "output_type": "execute_result"
    }
   ],
   "source": [
    "word_idfs"
   ]
  },
  {
   "cell_type": "code",
   "execution_count": 9,
   "metadata": {},
   "outputs": [],
   "source": [
    "#TF Matrix\n",
    "tf_matrix = {}\n",
    "for word in freq_words:\n",
    "    doc_tf = []\n",
    "    for data in dataSet:\n",
    "        frequency = 0\n",
    "        for w in nltk.word_tokenize(data):\n",
    "            if w == word:\n",
    "                frequency += 1\n",
    "        tf_word = frequency/len(nltk.word_tokenize(data))\n",
    "        doc_tf.append(tf_word)\n",
    "    tf_matrix[word] = doc_tf"
   ]
  },
  {
   "cell_type": "code",
   "execution_count": 15,
   "metadata": {},
   "outputs": [],
   "source": [
    "#TF-IDF Calculation\n",
    "tfidf_matrix = []\n",
    "for word in tf_matrix.keys():\n",
    "    tfidf = [];\n",
    "    for value in tf_matrix[word]:\n",
    "        score = value * word_idfs[word]\n",
    "        tfidf.append(score)\n",
    "    tfidf_matrix.append(tfidf)\n"
   ]
  },
  {
   "cell_type": "code",
   "execution_count": 17,
   "metadata": {},
   "outputs": [],
   "source": [
    "X = np.asarray(tfidf_matrix)\n",
    "X = np.transpose(X)"
   ]
  },
  {
   "cell_type": "code",
   "execution_count": 19,
   "metadata": {},
   "outputs": [],
   "source": [
    "from sklearn.feature_extraction.text import TfidfVectorizer"
   ]
  },
  {
   "cell_type": "code",
   "execution_count": 21,
   "metadata": {},
   "outputs": [
    {
     "name": "stdout",
     "output_type": "stream",
     "text": [
      "{'2015': 3.3978952727983707, 'able': 3.3978952727983707, 'about': 3.3978952727983707, 'academy': 3.3978952727983707, 'affected': 3.3978952727983707, 'all': 2.4816045409242156, 'amazing': 3.3978952727983707, 'an': 3.3978952727983707, 'and': 2.01160091167848, 'are': 3.3978952727983707, 'around': 3.3978952727983707, 'as': 3.3978952727983707, 'at': 3.3978952727983707, 'award': 3.3978952727983707, 'be': 2.4816045409242156, 'been': 3.3978952727983707, 'big': 3.3978952727983707, 'billions': 3.3978952727983707, 'brother': 3.3978952727983707, 'but': 3.3978952727983707, 'by': 2.7047480922384253, 'can': 3.3978952727983707, 'career': 3.3978952727983707, 'cast': 3.3978952727983707, 'change': 3.3978952727983707, 'children': 3.3978952727983707, 'cinematic': 3.3978952727983707, 'climate': 3.3978952727983707, 'collectively': 2.992430164690206, 'congratulate': 3.3978952727983707, 'creating': 3.3978952727983707, 'crew': 3.3978952727983707, 'dearly': 3.3978952727983707, 'do': 2.992430164690206, 'drowned': 3.3978952727983707, 'efforts': 3.3978952727983707, 'endeavor': 3.3978952727983707, 'entire': 2.992430164690206, 'everybody': 3.3978952727983707, 'everyone': 3.3978952727983707, 'experience': 3.3978952727983707, 'facing': 3.3978952727983707, 'felt': 3.3978952727983707, 'find': 3.3978952727983707, 'first': 3.3978952727983707, 'for': 2.1451323043030026, 'fox': 3.3978952727983707, 'friends': 3.3978952727983707, 'friendship': 3.3978952727983707, 'from': 3.3978952727983707, 'granted': 2.992430164690206, 'greed': 3.3978952727983707, 'happening': 3.3978952727983707, 'hardy': 3.3978952727983707, 'have': 2.7047480922384253, 'history': 3.3978952727983707, 'hottest': 3.3978952727983707, 'humanity': 3.3978952727983707, 'in': 2.7047480922384253, 'incredible': 3.3978952727983707, 'indigenous': 3.3978952727983707, 'is': 2.992430164690206, 'it': 2.992430164690206, 'just': 2.992430164690206, 'know': 3.3978952727983707, 'lastly': 3.3978952727983707, 'leaders': 3.3978952727983707, 'let': 3.3978952727983707, 'love': 3.3978952727983707, 'making': 3.3978952727983707, 'man': 3.3978952727983707, 'most': 2.992430164690206, 'move': 3.3978952727983707, 'mr': 3.3978952727983707, 'much': 2.992430164690206, 'my': 2.4816045409242156, 'natural': 3.3978952727983707, 'need': 2.992430164690206, 'needed': 3.3978952727983707, 'new': 3.3978952727983707, 'nominees': 3.3978952727983707, 'none': 3.3978952727983707, 'not': 2.7047480922384253, 'now': 3.3978952727983707, 'of': 2.1451323043030026, 'off': 2.992430164690206, 'on': 3.3978952727983707, 'only': 3.3978952727983707, 'onset': 3.3978952727983707, 'other': 3.3978952727983707, 'our': 2.7047480922384253, 'out': 2.992430164690206, 'parents': 3.3978952727983707, 'people': 2.992430164690206, 'planet': 2.992430164690206, 'politics': 3.3978952727983707, 'polluters': 3.3978952727983707, 'possible': 3.3978952727983707, 'procrastinating': 3.3978952727983707, 'product': 3.3978952727983707, 'production': 3.3978952727983707, 'ranscendent': 3.3978952727983707, 'real': 3.3978952727983707, 'recorded': 3.3978952727983707, 'regency': 3.3978952727983707, 'relationship': 3.3978952727983707, 'revenant': 2.992430164690206, 'right': 3.3978952727983707, 'room': 3.3978952727983707, 'say': 3.3978952727983707, 'screen': 3.3978952727983707, 'snow': 3.3978952727983707, 'so': 2.992430164690206, 'southern': 3.3978952727983707, 'speak': 3.3978952727983707, 'species': 3.3978952727983707, 'stop': 3.3978952727983707, 'support': 3.3978952727983707, 'surpassed': 3.3978952727983707, 'take': 2.992430164690206, 'talent': 3.3978952727983707, 'team': 3.3978952727983707, 'thank': 1.8938178760220965, 'that': 3.3978952727983707, 'the': 1.6931471805599454, 'there': 2.992430164690206, 'this': 1.7884573603642702, 'those': 3.3978952727983707, 'threat': 3.3978952727983707, 'tip': 3.3978952727983707, 'tireless': 3.3978952727983707, 'to': 1.6061358035703155, 'together': 3.3978952727983707, 'tom': 2.992430164690206, 'tonight': 2.992430164690206, 'unbelievable': 3.3978952727983707, 'underprivileged': 3.3978952727983707, 'urgent': 3.3978952727983707, 'us': 3.3978952727983707, 'very': 2.7047480922384253, 'voices': 3.3978952727983707, 'want': 3.3978952727983707, 'was': 2.992430164690206, 'we': 2.7047480922384253, 'who': 2.992430164690206, 'whose': 3.3978952727983707, 'without': 3.3978952727983707, 'work': 3.3978952727983707, 'world': 2.7047480922384253, 'would': 2.992430164690206, 'year': 2.992430164690206, 'you': 1.7884573603642702, 'your': 3.3978952727983707}\n"
     ]
    }
   ],
   "source": [
    "corpus =  nltk.sent_tokenize(paragraph)\n",
    "vectorizer = TfidfVectorizer(min_df=1)\n",
    "X = vectorizer.fit_transform(corpus)\n",
    "idf = vectorizer.idf_\n",
    "print(dict(zip(vectorizer.get_feature_names(), idf)))"
   ]
  },
  {
   "cell_type": "code",
   "execution_count": null,
   "metadata": {},
   "outputs": [],
   "source": []
  },
  {
   "cell_type": "code",
   "execution_count": null,
   "metadata": {},
   "outputs": [],
   "source": []
  }
 ],
 "metadata": {
  "kernelspec": {
   "display_name": "Python 3",
   "language": "python",
   "name": "python3"
  },
  "language_info": {
   "codemirror_mode": {
    "name": "ipython",
    "version": 3
   },
   "file_extension": ".py",
   "mimetype": "text/x-python",
   "name": "python",
   "nbconvert_exporter": "python",
   "pygments_lexer": "ipython3",
   "version": "3.7.2"
  }
 },
 "nbformat": 4,
 "nbformat_minor": 2
}
