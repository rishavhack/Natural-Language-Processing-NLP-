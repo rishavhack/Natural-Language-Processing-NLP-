{
 "cells": [
  {
   "cell_type": "code",
   "execution_count": 1,
   "metadata": {},
   "outputs": [],
   "source": [
    "paragraph = \"\"\"Thank you all so very much. Thank you to the Academy. \n",
    "               Thank you to all of you in this room. I have to congratulate \n",
    "               the other incredible nominees this year. The Revenant was \n",
    "               the product of the tireless efforts of an unbelievable cast\n",
    "               and crew. First off, to my brother in this endeavor, Mr. Tom \n",
    "               Hardy. Tom, your talent on screen can only be surpassed by \n",
    "               your friendship off screen … thank you for creating a t\n",
    "               ranscendent cinematic experience. Thank you to everybody at \n",
    "               Fox and New Regency … my entire team. I have to thank \n",
    "               everyone from the very onset of my career … To my parents; \n",
    "               none of this would be possible without you. And to my \n",
    "               friends, I love you dearly; you know who you are. And lastly,\n",
    "               I just want to say this: Making The Revenant was about\n",
    "               man's relationship to the natural world. A world that we\n",
    "               collectively felt in 2015 as the hottest year in recorded\n",
    "               history. Our production needed to move to the southern\n",
    "               tip of this planet just to be able to find snow. Climate\n",
    "               change is real, it is happening right now. It is the most\n",
    "               urgent threat facing our entire species, and we need to work\n",
    "               collectively together and stop procrastinating. We need to\n",
    "               support leaders around the world who do not speak for the \n",
    "               big polluters, but who speak for all of humanity, for the\n",
    "               indigenous people of the world, for the billions and \n",
    "               billions of underprivileged people out there who would be\n",
    "               most affected by this. For our children’s children, and \n",
    "               for those people out there whose voices have been drowned\n",
    "               out by the politics of greed. I thank you all for this \n",
    "               amazing award tonight. Let us not take this planet for \n",
    "               granted. I do not take tonight for granted. Thank you so very much.\"\"\""
   ]
  },
  {
   "cell_type": "code",
   "execution_count": 2,
   "metadata": {},
   "outputs": [],
   "source": [
    "import nltk\n",
    "import re\n",
    "import numpy as np"
   ]
  },
  {
   "cell_type": "code",
   "execution_count": 3,
   "metadata": {},
   "outputs": [],
   "source": [
    "dataset = nltk.sent_tokenize(paragraph)"
   ]
  },
  {
   "cell_type": "code",
   "execution_count": 4,
   "metadata": {},
   "outputs": [
    {
     "data": {
      "text/plain": [
       "['Thank you all so very much.',\n",
       " 'Thank you to the Academy.',\n",
       " 'Thank you to all of you in this room.',\n",
       " 'I have to congratulate \\n               the other incredible nominees this year.',\n",
       " 'The Revenant was \\n               the product of the tireless efforts of an unbelievable cast\\n               and crew.',\n",
       " 'First off, to my brother in this endeavor, Mr. Tom \\n               Hardy.',\n",
       " 'Tom, your talent on screen can only be surpassed by \\n               your friendship off screen … thank you for creating a t\\n               ranscendent cinematic experience.',\n",
       " 'Thank you to everybody at \\n               Fox and New Regency … my entire team.',\n",
       " 'I have to thank \\n               everyone from the very onset of my career … To my parents; \\n               none of this would be possible without you.',\n",
       " 'And to my \\n               friends, I love you dearly; you know who you are.',\n",
       " \"And lastly,\\n               I just want to say this: Making The Revenant was about\\n               man's relationship to the natural world.\",\n",
       " 'A world that we\\n               collectively felt in 2015 as the hottest year in recorded\\n               history.',\n",
       " 'Our production needed to move to the southern\\n               tip of this planet just to be able to find snow.',\n",
       " 'Climate\\n               change is real, it is happening right now.',\n",
       " 'It is the most\\n               urgent threat facing our entire species, and we need to work\\n               collectively together and stop procrastinating.',\n",
       " 'We need to\\n               support leaders around the world who do not speak for the \\n               big polluters, but who speak for all of humanity, for the\\n               indigenous people of the world, for the billions and \\n               billions of underprivileged people out there who would be\\n               most affected by this.',\n",
       " 'For our children’s children, and \\n               for those people out there whose voices have been drowned\\n               out by the politics of greed.',\n",
       " 'I thank you all for this \\n               amazing award tonight.',\n",
       " 'Let us not take this planet for \\n               granted.',\n",
       " 'I do not take tonight for granted.',\n",
       " 'Thank you so very much.']"
      ]
     },
     "execution_count": 4,
     "metadata": {},
     "output_type": "execute_result"
    }
   ],
   "source": [
    "dataset"
   ]
  },
  {
   "cell_type": "markdown",
   "metadata": {},
   "source": [
    "## Step 1 : We will first preprocess the data, in order to:\n",
    "\n",
    "* Convert text to lower case.\n",
    "* Remove all non-word characters.\n",
    "* Remove all punctuations"
   ]
  },
  {
   "cell_type": "code",
   "execution_count": 6,
   "metadata": {},
   "outputs": [],
   "source": [
    "for i in range(len(dataset)):\n",
    "    dataset[i] = dataset[i].lower();\n",
    "    dataset[i] = re.sub(r'\\W',' ',dataset[i])\n",
    "    dataset[i] = re.sub(r'\\s+',' ',dataset[i])"
   ]
  },
  {
   "cell_type": "code",
   "execution_count": 7,
   "metadata": {},
   "outputs": [
    {
     "data": {
      "text/plain": [
       "['thank you all so very much ',\n",
       " 'thank you to the academy ',\n",
       " 'thank you to all of you in this room ',\n",
       " 'i have to congratulate the other incredible nominees this year ',\n",
       " 'the revenant was the product of the tireless efforts of an unbelievable cast and crew ',\n",
       " 'first off to my brother in this endeavor mr tom hardy ',\n",
       " 'tom your talent on screen can only be surpassed by your friendship off screen thank you for creating a t ranscendent cinematic experience ',\n",
       " 'thank you to everybody at fox and new regency my entire team ',\n",
       " 'i have to thank everyone from the very onset of my career to my parents none of this would be possible without you ',\n",
       " 'and to my friends i love you dearly you know who you are ',\n",
       " 'and lastly i just want to say this making the revenant was about man s relationship to the natural world ',\n",
       " 'a world that we collectively felt in 2015 as the hottest year in recorded history ',\n",
       " 'our production needed to move to the southern tip of this planet just to be able to find snow ',\n",
       " 'climate change is real it is happening right now ',\n",
       " 'it is the most urgent threat facing our entire species and we need to work collectively together and stop procrastinating ',\n",
       " 'we need to support leaders around the world who do not speak for the big polluters but who speak for all of humanity for the indigenous people of the world for the billions and billions of underprivileged people out there who would be most affected by this ',\n",
       " 'for our children s children and for those people out there whose voices have been drowned out by the politics of greed ',\n",
       " 'i thank you all for this amazing award tonight ',\n",
       " 'let us not take this planet for granted ',\n",
       " 'i do not take tonight for granted ',\n",
       " 'thank you so very much ']"
      ]
     },
     "execution_count": 7,
     "metadata": {},
     "output_type": "execute_result"
    }
   ],
   "source": [
    "dataset"
   ]
  },
  {
   "cell_type": "markdown",
   "metadata": {},
   "source": [
    "## Step #2 : Obtaining most frequent words in our text.\n",
    "\n",
    "We will apply the following steps to generate our model.\n",
    "\n",
    "* We declare a dictionary to hold our bag of words.\n",
    "* Next we tokenize each sentence to words.\n",
    "* Now for each word in sentence, we check if the word exists in our dictionary.\n",
    "* If it does, then we increment its count by 1. If it doesn’t, we add it to our dictionary and set its count as 1"
   ]
  },
  {
   "cell_type": "code",
   "execution_count": 8,
   "metadata": {},
   "outputs": [],
   "source": [
    "word2count = {}"
   ]
  },
  {
   "cell_type": "code",
   "execution_count": 9,
   "metadata": {},
   "outputs": [],
   "source": [
    "for data in dataset:\n",
    "    words = nltk.word_tokenize(data)\n",
    "    for word in words:\n",
    "        if word not in word2count.keys():\n",
    "            word2count[word] = 1\n",
    "        else:\n",
    "            word2count[word] += 1"
   ]
  },
  {
   "cell_type": "code",
   "execution_count": 11,
   "metadata": {},
   "outputs": [],
   "source": [
    "import heapq \n",
    "freq_words = heapq.nlargest(100, word2count, key=word2count.get)"
   ]
  },
  {
   "cell_type": "markdown",
   "metadata": {},
   "source": [
    "## Step 3 : Building the Bag of Words model\n",
    "In this step we construct a vector, which would tell us whether a word in each sentence is a frequent word or not. If a word in a sentence is a frequent word, we set it as 1, else we set it as 0.\n",
    "This can be implemented with the help of following code:"
   ]
  },
  {
   "cell_type": "code",
   "execution_count": 13,
   "metadata": {},
   "outputs": [],
   "source": [
    "X = []"
   ]
  },
  {
   "cell_type": "code",
   "execution_count": 14,
   "metadata": {},
   "outputs": [],
   "source": [
    "for data in dataset:\n",
    "    vector =[]\n",
    "    for word in freq_words:\n",
    "        if word in nltk.word_tokenize(data):\n",
    "            vector.append(1)\n",
    "        else:\n",
    "            vector.append(0)\n",
    "    X.append(vector)\n",
    "\n"
   ]
  },
  {
   "cell_type": "code",
   "execution_count": 16,
   "metadata": {},
   "outputs": [],
   "source": [
    "X = np.asarray(X)"
   ]
  },
  {
   "cell_type": "code",
   "execution_count": 19,
   "metadata": {},
   "outputs": [],
   "source": [
    "from sklearn.feature_extraction.text import CountVectorizer"
   ]
  },
  {
   "cell_type": "code",
   "execution_count": 20,
   "metadata": {},
   "outputs": [],
   "source": [
    "corpus = nltk.sent_tokenize(paragraph)"
   ]
  },
  {
   "cell_type": "code",
   "execution_count": 21,
   "metadata": {},
   "outputs": [
    {
     "name": "stdout",
     "output_type": "stream",
     "text": [
      "[[0 0 0 ... 0 1 0]\n",
      " [0 0 0 ... 0 1 0]\n",
      " [0 0 0 ... 0 2 0]\n",
      " ...\n",
      " [0 0 0 ... 0 0 0]\n",
      " [0 0 0 ... 0 0 0]\n",
      " [0 0 0 ... 0 1 0]]\n",
      "{'thank': 122, 'you': 151, 'all': 5, 'so': 112, 'very': 139, 'much': 74, 'to': 131, 'the': 124, 'academy': 3, 'of': 84, 'in': 58, 'this': 126, 'room': 108, 'have': 54, 'congratulate': 29, 'other': 89, 'incredible': 59, 'nominees': 80, 'year': 150, 'revenant': 106, 'was': 142, 'product': 99, 'tireless': 130, 'efforts': 35, 'an': 7, 'unbelievable': 135, 'cast': 23, 'and': 8, 'crew': 31, 'first': 44, 'off': 85, 'my': 75, 'brother': 18, 'endeavor': 36, 'mr': 73, 'tom': 133, 'hardy': 53, 'your': 152, 'talent': 120, 'on': 86, 'screen': 110, 'can': 21, 'only': 87, 'be': 14, 'surpassed': 118, 'by': 20, 'friendship': 48, 'for': 45, 'creating': 30, 'ranscendent': 101, 'cinematic': 26, 'experience': 40, 'everybody': 38, 'at': 12, 'fox': 46, 'new': 79, 'regency': 104, 'entire': 37, 'team': 121, 'everyone': 39, 'from': 49, 'onset': 88, 'career': 22, 'parents': 92, 'none': 81, 'would': 149, 'possible': 97, 'without': 146, 'friends': 47, 'love': 68, 'dearly': 32, 'know': 64, 'who': 144, 'are': 9, 'lastly': 65, 'just': 63, 'want': 141, 'say': 109, 'making': 69, 'about': 2, 'man': 70, 'relationship': 105, 'natural': 76, 'world': 148, 'that': 123, 'we': 143, 'collectively': 28, 'felt': 42, '2015': 0, 'as': 11, 'hottest': 56, 'recorded': 103, 'history': 55, 'our': 90, 'production': 100, 'needed': 78, 'move': 72, 'southern': 113, 'tip': 129, 'planet': 94, 'able': 1, 'find': 43, 'snow': 111, 'climate': 27, 'change': 24, 'is': 61, 'real': 102, 'it': 62, 'happening': 52, 'right': 107, 'now': 83, 'most': 71, 'urgent': 137, 'threat': 128, 'facing': 41, 'species': 115, 'need': 77, 'work': 147, 'together': 132, 'stop': 116, 'procrastinating': 98, 'support': 117, 'leaders': 66, 'around': 10, 'do': 33, 'not': 82, 'speak': 114, 'big': 16, 'polluters': 96, 'but': 19, 'humanity': 57, 'indigenous': 60, 'people': 93, 'billions': 17, 'underprivileged': 136, 'out': 91, 'there': 125, 'affected': 4, 'children': 25, 'those': 127, 'whose': 145, 'voices': 140, 'been': 15, 'drowned': 34, 'politics': 95, 'greed': 51, 'amazing': 6, 'award': 13, 'tonight': 134, 'let': 67, 'us': 138, 'take': 119, 'granted': 50}\n"
     ]
    }
   ],
   "source": [
    "vectorizer = CountVectorizer()\n",
    "print( vectorizer.fit_transform(corpus).todense() )\n",
    "print( vectorizer.vocabulary_ )"
   ]
  },
  {
   "cell_type": "code",
   "execution_count": 23,
   "metadata": {},
   "outputs": [
    {
     "name": "stdout",
     "output_type": "stream",
     "text": [
      "{'thank': 8, 'you': 12, 'all': 4, 'so': 2, 'very': 3, 'much': 2, 'to': 16, 'the': 17, 'academy': 1, 'of': 10, 'in': 4, 'this': 9, 'room': 1, 'i': 6, 'have': 3, 'congratulate': 1, 'other': 1, 'incredible': 1, 'nominees': 1, 'year': 2, 'revenant': 2, 'was': 2, 'product': 1, 'tireless': 1, 'efforts': 1, 'an': 1, 'unbelievable': 1, 'cast': 1, 'and': 8, 'crew': 1, 'first': 1, 'off': 2, 'my': 5, 'brother': 1, 'endeavor': 1, 'mr': 1, 'tom': 2, 'hardy': 1, 'your': 2, 'talent': 1, 'on': 1, 'screen': 2, 'can': 1, 'only': 1, 'be': 4, 'surpassed': 1, 'by': 3, 'friendship': 1, 'for': 10, 'creating': 1, 'a': 2, 't': 1, 'ranscendent': 1, 'cinematic': 1, 'experience': 1, 'everybody': 1, 'at': 1, 'fox': 1, 'new': 1, 'regency': 1, 'entire': 2, 'team': 1, 'everyone': 1, 'from': 1, 'onset': 1, 'career': 1, 'parents': 1, 'none': 1, 'would': 2, 'possible': 1, 'without': 1, 'friends': 1, 'love': 1, 'dearly': 1, 'know': 1, 'who': 4, 'are': 1, 'lastly': 1, 'just': 2, 'want': 1, 'say': 1, 'making': 1, 'about': 1, 'man': 1, 's': 2, 'relationship': 1, 'natural': 1, 'world': 4, 'that': 1, 'we': 3, 'collectively': 2, 'felt': 1, '2015': 1, 'as': 1, 'hottest': 1, 'recorded': 1, 'history': 1, 'our': 3, 'production': 1, 'needed': 1, 'move': 1, 'southern': 1, 'tip': 1, 'planet': 2, 'able': 1, 'find': 1, 'snow': 1, 'climate': 1, 'change': 1, 'is': 3, 'real': 1, 'it': 2, 'happening': 1, 'right': 1, 'now': 1, 'most': 2, 'urgent': 1, 'threat': 1, 'facing': 1, 'species': 1, 'need': 2, 'work': 1, 'together': 1, 'stop': 1, 'procrastinating': 1, 'support': 1, 'leaders': 1, 'around': 1, 'do': 2, 'not': 3, 'speak': 2, 'big': 1, 'polluters': 1, 'but': 1, 'humanity': 1, 'indigenous': 1, 'people': 3, 'billions': 2, 'underprivileged': 1, 'out': 3, 'there': 2, 'affected': 1, 'children': 2, 'those': 1, 'whose': 1, 'voices': 1, 'been': 1, 'drowned': 1, 'politics': 1, 'greed': 1, 'amazing': 1, 'award': 1, 'tonight': 2, 'let': 1, 'us': 1, 'take': 2, 'granted': 2}\n"
     ]
    }
   ],
   "source": [
    "print(word2count)"
   ]
  },
  {
   "cell_type": "code",
   "execution_count": null,
   "metadata": {},
   "outputs": [],
   "source": []
  }
 ],
 "metadata": {
  "kernelspec": {
   "display_name": "Python 3",
   "language": "python",
   "name": "python3"
  },
  "language_info": {
   "codemirror_mode": {
    "name": "ipython",
    "version": 3
   },
   "file_extension": ".py",
   "mimetype": "text/x-python",
   "name": "python",
   "nbconvert_exporter": "python",
   "pygments_lexer": "ipython3",
   "version": "3.7.2"
  }
 },
 "nbformat": 4,
 "nbformat_minor": 2
}
