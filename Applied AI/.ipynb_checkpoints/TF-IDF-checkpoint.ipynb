{
 "cells": [
  {
   "cell_type": "code",
   "execution_count": 1,
   "metadata": {},
   "outputs": [],
   "source": [
    "import nltk\n",
    "import re\n",
    "import heapq\n",
    "import numpy as np"
   ]
  },
  {
   "cell_type": "code",
   "execution_count": 2,
   "metadata": {},
   "outputs": [],
   "source": [
    "paragraph = \"\"\"Thank you all so very much. Thank you to the Academy. \n",
    "               Thank you to all of you in this room. I have to congratulate \n",
    "               the other incredible nominees this year. The Revenant was \n",
    "               the product of the tireless efforts of an unbelievable cast\n",
    "               and crew. First off, to my brother in this endeavor, Mr. Tom \n",
    "               Hardy. Tom, your talent on screen can only be surpassed by \n",
    "               your friendship off screen … thank you for creating a t\n",
    "               ranscendent cinematic experience. Thank you to everybody at \n",
    "               Fox and New Regency … my entire team. I have to thank \n",
    "               everyone from the very onset of my career … To my parents; \n",
    "               none of this would be possible without you. And to my \n",
    "               friends, I love you dearly; you know who you are. And lastly,\n",
    "               I just want to say this: Making The Revenant was about\n",
    "               man's relationship to the natural world. A world that we\n",
    "               collectively felt in 2015 as the hottest year in recorded\n",
    "               history. Our production needed to move to the southern\n",
    "               tip of this planet just to be able to find snow. Climate\n",
    "               change is real, it is happening right now. It is the most\n",
    "               urgent threat facing our entire species, and we need to work\n",
    "               collectively together and stop procrastinating. We need to\n",
    "               support leaders around the world who do not speak for the \n",
    "               big polluters, but who speak for all of humanity, for the\n",
    "               indigenous people of the world, for the billions and \n",
    "               billions of underprivileged people out there who would be\n",
    "               most affected by this. For our children’s children, and \n",
    "               for those people out there whose voices have been drowned\n",
    "               out by the politics of greed. I thank you all for this \n",
    "               amazing award tonight. Let us not take this planet for \n",
    "               granted. I do not take tonight for granted. Thank you so very much.\"\"\"\n"
   ]
  },
  {
   "cell_type": "code",
   "execution_count": 3,
   "metadata": {},
   "outputs": [],
   "source": [
    "dataSet = nltk.sent_tokenize(paragraph)"
   ]
  },
  {
   "cell_type": "code",
   "execution_count": 4,
   "metadata": {},
   "outputs": [],
   "source": [
    "for i in range(len(dataSet)):\n",
    "    dataSet[i] = dataSet[i].lower()\n",
    "    dataSet[i] = re.sub(r'\\W',' ',dataSet[i])\n",
    "    dataSet[i] = re.sub(r'\\s+',' ',dataSet[i])"
   ]
  },
  {
   "cell_type": "code",
   "execution_count": 6,
   "metadata": {},
   "outputs": [],
   "source": [
    "word2count = {}\n",
    "for data in dataSet:\n",
    "    words = nltk.word_tokenize(data)\n",
    "    for word in words:\n",
    "        if word not in word2count.keys():\n",
    "            word2count[word] = 1\n",
    "        else:\n",
    "            word2count[word] += 1\n",
    "\n",
    "freq_words = heapq.nlargest(100,word2count,key=word2count.get)"
   ]
  },
  {
   "cell_type": "code",
   "execution_count": 7,
   "metadata": {},
   "outputs": [],
   "source": [
    "#IDF\n",
    "word_idfs = {}\n",
    "for word in freq_words:\n",
    "    doc_count = 0\n",
    "    for data in dataSet:\n",
    "        if word in nltk.word_tokenize(data):\n",
    "            doc_count += 1\n",
    "    word_idfs[word] = np.log((len(dataSet)/doc_count) + 1)"
   ]
  },
  {
   "cell_type": "code",
   "execution_count": 8,
   "metadata": {
    "scrolled": true
   },
   "outputs": [
    {
     "data": {
      "text/plain": [
       "{'the': 1.1314021114911006,\n",
       " 'to': 1.067840630001356,\n",
       " 'you': 1.2039728043259361,\n",
       " 'of': 1.5040773967762742,\n",
       " 'for': 1.5040773967762742,\n",
       " 'this': 1.2039728043259361,\n",
       " 'thank': 1.2878542883066382,\n",
       " 'and': 1.3862943611198906,\n",
       " 'i': 1.5040773967762742,\n",
       " 'my': 1.8325814637483102,\n",
       " 'all': 1.8325814637483102,\n",
       " 'in': 2.0794415416798357,\n",
       " 'be': 1.8325814637483102,\n",
       " 'who': 2.4423470353692043,\n",
       " 'world': 2.0794415416798357,\n",
       " 'very': 2.0794415416798357,\n",
       " 'have': 2.0794415416798357,\n",
       " 'by': 2.0794415416798357,\n",
       " 'we': 2.0794415416798357,\n",
       " 'our': 2.0794415416798357,\n",
       " 'is': 2.4423470353692043,\n",
       " 'not': 2.0794415416798357,\n",
       " 'people': 2.4423470353692043,\n",
       " 'out': 2.4423470353692043,\n",
       " 'so': 2.4423470353692043,\n",
       " 'much': 2.4423470353692043,\n",
       " 'year': 2.4423470353692043,\n",
       " 'revenant': 2.4423470353692043,\n",
       " 'was': 2.4423470353692043,\n",
       " 'off': 2.4423470353692043,\n",
       " 'tom': 2.4423470353692043,\n",
       " 'your': 3.091042453358316,\n",
       " 'screen': 3.091042453358316,\n",
       " 'a': 2.4423470353692043,\n",
       " 'entire': 2.4423470353692043,\n",
       " 'would': 2.4423470353692043,\n",
       " 'just': 2.4423470353692043,\n",
       " 's': 2.4423470353692043,\n",
       " 'collectively': 2.4423470353692043,\n",
       " 'planet': 2.4423470353692043,\n",
       " 'it': 2.4423470353692043,\n",
       " 'most': 2.4423470353692043,\n",
       " 'need': 2.4423470353692043,\n",
       " 'do': 2.4423470353692043,\n",
       " 'speak': 3.091042453358316,\n",
       " 'billions': 3.091042453358316,\n",
       " 'there': 2.4423470353692043,\n",
       " 'children': 3.091042453358316,\n",
       " 'tonight': 2.4423470353692043,\n",
       " 'take': 2.4423470353692043,\n",
       " 'granted': 2.4423470353692043,\n",
       " 'academy': 3.091042453358316,\n",
       " 'room': 3.091042453358316,\n",
       " 'congratulate': 3.091042453358316,\n",
       " 'other': 3.091042453358316,\n",
       " 'incredible': 3.091042453358316,\n",
       " 'nominees': 3.091042453358316,\n",
       " 'product': 3.091042453358316,\n",
       " 'tireless': 3.091042453358316,\n",
       " 'efforts': 3.091042453358316,\n",
       " 'an': 3.091042453358316,\n",
       " 'unbelievable': 3.091042453358316,\n",
       " 'cast': 3.091042453358316,\n",
       " 'crew': 3.091042453358316,\n",
       " 'first': 3.091042453358316,\n",
       " 'brother': 3.091042453358316,\n",
       " 'endeavor': 3.091042453358316,\n",
       " 'mr': 3.091042453358316,\n",
       " 'hardy': 3.091042453358316,\n",
       " 'talent': 3.091042453358316,\n",
       " 'on': 3.091042453358316,\n",
       " 'can': 3.091042453358316,\n",
       " 'only': 3.091042453358316,\n",
       " 'surpassed': 3.091042453358316,\n",
       " 'friendship': 3.091042453358316,\n",
       " 'creating': 3.091042453358316,\n",
       " 't': 3.091042453358316,\n",
       " 'ranscendent': 3.091042453358316,\n",
       " 'cinematic': 3.091042453358316,\n",
       " 'experience': 3.091042453358316,\n",
       " 'everybody': 3.091042453358316,\n",
       " 'at': 3.091042453358316,\n",
       " 'fox': 3.091042453358316,\n",
       " 'new': 3.091042453358316,\n",
       " 'regency': 3.091042453358316,\n",
       " 'team': 3.091042453358316,\n",
       " 'everyone': 3.091042453358316,\n",
       " 'from': 3.091042453358316,\n",
       " 'onset': 3.091042453358316,\n",
       " 'career': 3.091042453358316,\n",
       " 'parents': 3.091042453358316,\n",
       " 'none': 3.091042453358316,\n",
       " 'possible': 3.091042453358316,\n",
       " 'without': 3.091042453358316,\n",
       " 'friends': 3.091042453358316,\n",
       " 'love': 3.091042453358316,\n",
       " 'dearly': 3.091042453358316,\n",
       " 'know': 3.091042453358316,\n",
       " 'are': 3.091042453358316,\n",
       " 'lastly': 3.091042453358316}"
      ]
     },
     "execution_count": 8,
     "metadata": {},
     "output_type": "execute_result"
    }
   ],
   "source": [
    "word_idfs"
   ]
  },
  {
   "cell_type": "code",
   "execution_count": 9,
   "metadata": {},
   "outputs": [],
   "source": [
    "#TF Matrix\n",
    "tf_matrix = {}\n",
    "for word in freq_words:\n",
    "    doc_tf = []\n",
    "    for data in dataSet:\n",
    "        frequency = 0\n",
    "        for w in nltk.word_tokenize(data):\n",
    "            if w == word:\n",
    "                frequency += 1\n",
    "        tf_word = frequency/len(nltk.word_tokenize(data))\n",
    "        doc_tf.append(tf_word)\n",
    "    tf_matrix[word] = doc_tf"
   ]
  },
  {
   "cell_type": "code",
   "execution_count": 14,
   "metadata": {},
   "outputs": [
    {
     "data": {
      "text/plain": [
       "['thank', 'you', 'all', 'so', 'very', 'much']"
      ]
     },
     "execution_count": 14,
     "metadata": {},
     "output_type": "execute_result"
    }
   ],
   "source": [
    "nltk.word_tokenize(dataSet[0])"
   ]
  },
  {
   "cell_type": "code",
   "execution_count": null,
   "metadata": {},
   "outputs": [],
   "source": []
  }
 ],
 "metadata": {
  "kernelspec": {
   "display_name": "Python 3",
   "language": "python",
   "name": "python3"
  },
  "language_info": {
   "codemirror_mode": {
    "name": "ipython",
    "version": 3
   },
   "file_extension": ".py",
   "mimetype": "text/x-python",
   "name": "python",
   "nbconvert_exporter": "python",
   "pygments_lexer": "ipython3",
   "version": "3.7.2"
  }
 },
 "nbformat": 4,
 "nbformat_minor": 2
}
