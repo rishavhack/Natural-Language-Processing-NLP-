{
 "cells": [
  {
   "cell_type": "code",
   "execution_count": 1,
   "metadata": {},
   "outputs": [],
   "source": [
    "import spacy\n",
    "nlp = spacy.load('en_core_web_sm')"
   ]
  },
  {
   "cell_type": "code",
   "execution_count": 2,
   "metadata": {},
   "outputs": [
    {
     "name": "stdout",
     "output_type": "stream",
     "text": [
      "{'afterwards', 'before', 'whereas', 'him', 'both', 'among', 'show', 'and', 'seems', 'mostly', 'between', 'about', 'so', 'who', 'sometime', 'off', 'make', 'is', 'anyhow', 'least', \"'re\", 'whenever', 'one', 'from', 'on', 'out', 'doing', 'together', 'wherever', 'after', 'its', 'her', 'during', 'onto', 'that', 'to', 'his', 'itself', 'all', 'why', 'further', 'enough', 'my', 'many', 'they', 'last', 'down', 'beyond', 'few', 'sometimes', 'seem', 'noone', 'a', \"'d\", 'fifteen', 'without', 'still', 'ever', 'your', 'every', 'up', 'third', 'some', 'besides', 'any', 'thru', 'twenty', 'rather', 'whoever', 'would', 'never', 'against', 'such', 'own', 'can', 'whole', 'two', 'here', 'must', 'moreover', 'does', 'around', 'first', 'well', 'using', 'somewhere', 'nor', 'no', 'latter', 'thus', 'until', 'meanwhile', 'upon', 'or', 'name', 'been', 'within', 'there', 'become', 'behind', 'often', 'used', 'where', 'hereafter', 'hence', 'cannot', 'regarding', 'therefore', 'was', 'bottom', 'throughout', 'anyway', 'eight', 'what', 'done', 'hereupon', 'anyone', 'perhaps', 'call', 'indeed', 'forty', 'else', 'be', 'front', 'none', 'several', 'he', 'give', 'herself', 'being', 'me', 'wherein', 'five', 'becoming', 'fifty', 'now', 'three', 'six', 'seeming', 'again', 'keep', 'she', 'ourselves', 'former', 'sixty', 'at', 'something', 'into', 'go', 'also', 'seemed', 'always', 'which', 'amongst', 'hers', 'how', 'move', 'across', 'somehow', 'even', 'us', 'empty', 'formerly', 'take', 'please', 'yourselves', 'under', 'whose', 'above', 'nevertheless', 'another', 'ten', 'thence', 'those', 'put', 'do', 'alone', 'nowhere', 'very', 'neither', 'our', 'made', 'are', 'only', 'may', 'by', 'see', 'too', 'beside', 'nine', 'thereby', 'in', 'elsewhere', 'while', 'due', 'of', 'their', 'various', 'below', 'everyone', 'for', 'as', 'most', 'side', 'towards', 'myself', 'however', 'next', 'each', 'but', 'quite', 'ours', \"'m\", 'either', 'hundred', 'whereby', 'full', 'thereupon', 'himself', 'much', 'unless', 'toward', 'whither', 'namely', 'beforehand', 'anywhere', 'same', 'we', \"'ll\", 'am', 'everywhere', 'these', 'could', 'though', 'through', 'say', 'whatever', 'latterly', 'thereafter', 'this', 're', 'part', 'will', 'have', 'less', 'should', 'might', 'becomes', 'per', 'the', \"'s\", 'if', 'although', 'you', 'over', 'twelve', 'ca', 'hereby', 'had', 'when', 'whether', 'yet', 'everything', 'nothing', 'i', \"n't\", 'not', 'serious', 'since', 'someone', 'whereupon', 'more', 'then', 'has', 'with', 'yours', 'almost', 'because', 'four', 'along', 'than', 'once', 'mine', 'top', 'nobody', 'anything', 'became', 'whom', 'amount', 'other', 'therein', \"'ve\", 'get', 'themselves', 'except', 'herein', 'an', 'really', 'it', 'just', 'did', 'back', 'whereafter', 'eleven', 'others', 'were', 'them', 'whence', 'yourself', 'otherwise', 'via', 'already'}\n"
     ]
    }
   ],
   "source": [
    "print(nlp.Defaults.stop_words)"
   ]
  },
  {
   "cell_type": "code",
   "execution_count": 3,
   "metadata": {},
   "outputs": [
    {
     "data": {
      "text/plain": [
       "312"
      ]
     },
     "execution_count": 3,
     "metadata": {},
     "output_type": "execute_result"
    }
   ],
   "source": [
    "len(nlp.Defaults.stop_words)"
   ]
  },
  {
   "cell_type": "code",
   "execution_count": 4,
   "metadata": {},
   "outputs": [
    {
     "data": {
      "text/plain": [
       "<spacy.lexeme.Lexeme at 0x12017d240>"
      ]
     },
     "execution_count": 4,
     "metadata": {},
     "output_type": "execute_result"
    }
   ],
   "source": [
    "nlp.vocab['is']"
   ]
  },
  {
   "cell_type": "code",
   "execution_count": 5,
   "metadata": {},
   "outputs": [
    {
     "data": {
      "text/plain": [
       "True"
      ]
     },
     "execution_count": 5,
     "metadata": {},
     "output_type": "execute_result"
    }
   ],
   "source": [
    "nlp.vocab['is'].is_stop"
   ]
  },
  {
   "cell_type": "code",
   "execution_count": 6,
   "metadata": {},
   "outputs": [
    {
     "data": {
      "text/plain": [
       "False"
      ]
     },
     "execution_count": 6,
     "metadata": {},
     "output_type": "execute_result"
    }
   ],
   "source": [
    "nlp.vocab['mystery'].is_stop"
   ]
  },
  {
   "cell_type": "code",
   "execution_count": 7,
   "metadata": {},
   "outputs": [],
   "source": [
    "#To add any new stop word\n",
    "nlp.Defaults.stop_words.add('btw')"
   ]
  },
  {
   "cell_type": "code",
   "execution_count": 8,
   "metadata": {},
   "outputs": [],
   "source": [
    "nlp.vocab['btw'].is_stop = True"
   ]
  },
  {
   "cell_type": "code",
   "execution_count": 9,
   "metadata": {},
   "outputs": [
    {
     "data": {
      "text/plain": [
       "313"
      ]
     },
     "execution_count": 9,
     "metadata": {},
     "output_type": "execute_result"
    }
   ],
   "source": [
    "len(nlp.Defaults.stop_words)"
   ]
  },
  {
   "cell_type": "code",
   "execution_count": 10,
   "metadata": {},
   "outputs": [
    {
     "data": {
      "text/plain": [
       "True"
      ]
     },
     "execution_count": 10,
     "metadata": {},
     "output_type": "execute_result"
    }
   ],
   "source": [
    "nlp.vocab['btw'].is_stop"
   ]
  },
  {
   "cell_type": "code",
   "execution_count": 11,
   "metadata": {},
   "outputs": [],
   "source": [
    "#Want To remove StopWord\n",
    "nlp.Defaults.stop_words.remove('btw')\n",
    "nlp.vocab['btw'].is_stop = False"
   ]
  },
  {
   "cell_type": "code",
   "execution_count": 12,
   "metadata": {},
   "outputs": [
    {
     "data": {
      "text/plain": [
       "312"
      ]
     },
     "execution_count": 12,
     "metadata": {},
     "output_type": "execute_result"
    }
   ],
   "source": [
    "len(nlp.Defaults.stop_words)"
   ]
  },
  {
   "cell_type": "code",
   "execution_count": 13,
   "metadata": {},
   "outputs": [
    {
     "data": {
      "text/plain": [
       "False"
      ]
     },
     "execution_count": 13,
     "metadata": {},
     "output_type": "execute_result"
    }
   ],
   "source": [
    "nlp.vocab['btw'].is_stop"
   ]
  },
  {
   "cell_type": "code",
   "execution_count": null,
   "metadata": {},
   "outputs": [],
   "source": []
  }
 ],
 "metadata": {
  "kernelspec": {
   "display_name": "Python 3",
   "language": "python",
   "name": "python3"
  },
  "language_info": {
   "codemirror_mode": {
    "name": "ipython",
    "version": 3
   },
   "file_extension": ".py",
   "mimetype": "text/x-python",
   "name": "python",
   "nbconvert_exporter": "python",
   "pygments_lexer": "ipython3",
   "version": "3.7.2"
  }
 },
 "nbformat": 4,
 "nbformat_minor": 2
}
